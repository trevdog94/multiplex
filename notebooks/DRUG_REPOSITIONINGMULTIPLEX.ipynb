{
  "nbformat": 4,
  "nbformat_minor": 0,
  "metadata": {
    "colab": {
      "name": "DRUG_REPOSITIONINGMULTIPLEX.ipynb",
      "provenance": [],
      "mount_file_id": "1LuHhfnO7Br8fo14Q2wo7N9azZrZUA8Mm",
      "authorship_tag": "ABX9TyPWonxYskBnhWiNLSydUsQM",
      "include_colab_link": true
    },
    "kernelspec": {
      "name": "python3",
      "display_name": "Python 3"
    },
    "language_info": {
      "name": "python"
    }
  },
  "cells": [
    {
      "cell_type": "markdown",
      "metadata": {
        "id": "view-in-github",
        "colab_type": "text"
      },
      "source": [
        "<a href=\"https://colab.research.google.com/github/trevdog94/multiplex/blob/tgk%2Fconstruct-multiplex/notebooks/DRUG_REPOSITIONINGMULTIPLEX.ipynb\" target=\"_parent\"><img src=\"https://colab.research.google.com/assets/colab-badge.svg\" alt=\"Open In Colab\"/></a>"
      ]
    },
    {
      "cell_type": "markdown",
      "source": [
        ""
      ],
      "metadata": {
        "id": "pXVctFoLqWLg"
      }
    },
    {
      "cell_type": "markdown",
      "source": [
        "# Drug Repositioning Using Multiplex-Heterogeneous Network Embedding"
      ],
      "metadata": {
        "id": "FSyxRYLPqgje"
      }
    },
    {
      "cell_type": "code",
      "source": [
        "import networkx as nx\n",
        "import torch"
      ],
      "metadata": {
        "id": "g5RE_jv5qTSD"
      },
      "execution_count": 4,
      "outputs": []
    },
    {
      "cell_type": "markdown",
      "source": [
        "## Build the Multiplex Network"
      ],
      "metadata": {
        "id": "9xqdTAc7rHHa"
      }
    },
    {
      "cell_type": "markdown",
      "source": [
        "Human Molecular Multiplex Network"
      ],
      "metadata": {
        "id": "deJ8OB-Urgi0"
      }
    },
    {
      "cell_type": "markdown",
      "source": [
        "Drug Multiplex Network"
      ],
      "metadata": {
        "id": "QBawUS3Zv4Ax"
      }
    },
    {
      "cell_type": "code",
      "source": [
        "## The projected drug-target network from Biosnap\n",
        "#http://snap.stanford.edu/biodata/datasets/10002/10002-ChG-Miner.html)\n"
      ],
      "metadata": {
        "id": "nkbfmwGKrjtk"
      },
      "execution_count": null,
      "outputs": []
    }
  ]
}