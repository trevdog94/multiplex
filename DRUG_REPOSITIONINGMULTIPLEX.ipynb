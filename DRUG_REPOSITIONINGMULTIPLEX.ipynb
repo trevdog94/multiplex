{
  "nbformat": 4,
  "nbformat_minor": 0,
  "metadata": {
    "colab": {
      "name": "DRUG_REPOSITIONINGMULTIPLEX.ipynb",
      "provenance": [],
      "mount_file_id": "1LuHhfnO7Br8fo14Q2wo7N9azZrZUA8Mm",
      "authorship_tag": "ABX9TyMJd2SKqBiroXxcAkCmwqQp",
      "include_colab_link": true
    },
    "kernelspec": {
      "name": "python3",
      "display_name": "Python 3"
    },
    "language_info": {
      "name": "python"
    }
  },
  "cells": [
    {
      "cell_type": "markdown",
      "metadata": {
        "id": "view-in-github",
        "colab_type": "text"
      },
      "source": [
        "<a href=\"https://colab.research.google.com/github/trevdog94/multiplex/blob/tgk%2Fconstruct-multiplex/DRUG_REPOSITIONINGMULTIPLEX.ipynb\" target=\"_parent\"><img src=\"https://colab.research.google.com/assets/colab-badge.svg\" alt=\"Open In Colab\"/></a>"
      ]
    },
    {
      "cell_type": "markdown",
      "source": [
        ""
      ],
      "metadata": {
        "id": "pXVctFoLqWLg"
      }
    },
    {
      "cell_type": "code",
      "source": [
        "## Install dependencies\n",
        "# !sudo apt-get install graphviz graphviz-dev\n",
        "# !pip install pygraphviz\n",
        "\n",
        "## Import Libraries\n",
        "import networkx as nx\n",
        "import pygraphviz as pgv\n",
        "import torch\n",
        "import pandas as pd\n",
        "import numpy as np\n",
        "\n",
        "import gzip\n",
        "import shutil"
      ],
      "metadata": {
        "id": "g5RE_jv5qTSD"
      },
      "execution_count": 82,
      "outputs": []
    },
    {
      "cell_type": "markdown",
      "source": [
        "# Drug Repositioning Using Multiplex-Heterogeneous Network Embedding"
      ],
      "metadata": {
        "id": "FSyxRYLPqgje"
      }
    },
    {
      "cell_type": "markdown",
      "source": [
        "The goal of this notebook is to construct and explore a Multiplex-Heterogeneous Network (MH-Network) for the purpose of Drug Repositioning. This work is enspired by the paper [MultiVERSE: a multiplex and multiplex-heterogeneous network embedding approach](https://www.nature.com/articles/s41598-021-87987-1.pdf). In this work, the authors were able to embed a MH-Network consisting of a **Drug-Target Multiplex** and **Human Molecular Multiplex** into a lower demensional space so that clustering and link prediction can be performed to find new drugs that could potentially be used to treat a given disease. Here we will process the raw data needed to construct the MH-Network and ingest the data into a graph database (Dgraph). The end goal is to build a frontend application where users can query for potential drugs that could be used to treat a given illness."
      ],
      "metadata": {
        "id": "5mIFaZK5PAdH"
      }
    },
    {
      "cell_type": "markdown",
      "source": [
        "## Construct the Multiplex-Heterogeneous Network"
      ],
      "metadata": {
        "id": "9xqdTAc7rHHa"
      }
    },
    {
      "cell_type": "markdown",
      "source": [
        "To employ the MultiVERSE algorithm, networks need to be converted to extended edgelist format:\n",
        "\n",
        "```{r}\n",
        "edge_type source target weight\n",
        "  r1        n1    n2    1\n",
        "  r2        n2    n3    1\n",
        "```"
      ],
      "metadata": {
        "id": "MGt9VlIzSPZe"
      }
    },
    {
      "cell_type": "code",
      "source": [
        "dt_net_loc = '/content/drive/MyDrive/multiplex/data/raw/ChG-Miner_miner-chem-gene.tsv.gz'\n",
        "dt_net_tsv_loc = '/content/drive/MyDrive/multiplex/data/interim/dt_net.tsv'"
      ],
      "metadata": {
        "id": "WqXY3tt9-d3S"
      },
      "execution_count": 43,
      "outputs": []
    },
    {
      "cell_type": "markdown",
      "source": [
        "### Drug Multiplex Network"
      ],
      "metadata": {
        "id": "QBawUS3Zv4Ax"
      }
    },
    {
      "cell_type": "code",
      "source": [
        "## The projected drug-target network from Biosnap\n",
        "#http://snap.stanford.edu/biodata/datasets/10002/10002-ChG-Miner.html)\n",
        "with gzip.open(dt_net_loc, 'rb') as f_in:\n",
        "  with open(dt_net_tsv_loc, 'wb') as f_out:\n",
        "    shutil.copyfileobj(f_in, f_out)"
      ],
      "metadata": {
        "id": "nkbfmwGKrjtk"
      },
      "execution_count": 40,
      "outputs": []
    },
    {
      "cell_type": "code",
      "source": [
        "## Convert to a pandas df\n",
        "dt_net_df = pd.read_csv(dt_net_tsv_loc, sep = '\\t', header=0)\n",
        "dt_net_df.rename(columns={'#Drug':'drug', 'Gene':'gene'}, inplace=True)\n",
        "dt_net_sample_df = dt_net_df.sample(1000)\n",
        "dt_net_sample_df"
      ],
      "metadata": {
        "colab": {
          "base_uri": "https://localhost:8080/",
          "height": 423
        },
        "id": "SECQ57XG8YR4",
        "outputId": "1e767ea6-1ff2-4960-d661-96b2f407ba8e"
      },
      "execution_count": 73,
      "outputs": [
        {
          "output_type": "execute_result",
          "data": {
            "text/html": [
              "\n",
              "  <div id=\"df-37476a31-9229-42d0-a113-4728970c5e40\">\n",
              "    <div class=\"colab-df-container\">\n",
              "      <div>\n",
              "<style scoped>\n",
              "    .dataframe tbody tr th:only-of-type {\n",
              "        vertical-align: middle;\n",
              "    }\n",
              "\n",
              "    .dataframe tbody tr th {\n",
              "        vertical-align: top;\n",
              "    }\n",
              "\n",
              "    .dataframe thead th {\n",
              "        text-align: right;\n",
              "    }\n",
              "</style>\n",
              "<table border=\"1\" class=\"dataframe\">\n",
              "  <thead>\n",
              "    <tr style=\"text-align: right;\">\n",
              "      <th></th>\n",
              "      <th>drug</th>\n",
              "      <th>gene</th>\n",
              "    </tr>\n",
              "  </thead>\n",
              "  <tbody>\n",
              "    <tr>\n",
              "      <th>2272</th>\n",
              "      <td>DB00248</td>\n",
              "      <td>P21917</td>\n",
              "    </tr>\n",
              "    <tr>\n",
              "      <th>13367</th>\n",
              "      <td>DB01359</td>\n",
              "      <td>P08908</td>\n",
              "    </tr>\n",
              "    <tr>\n",
              "      <th>10094</th>\n",
              "      <td>DB01119</td>\n",
              "      <td>P15104</td>\n",
              "    </tr>\n",
              "    <tr>\n",
              "      <th>1593</th>\n",
              "      <td>DB09079</td>\n",
              "      <td>P06239</td>\n",
              "    </tr>\n",
              "    <tr>\n",
              "      <th>738</th>\n",
              "      <td>DB05455</td>\n",
              "      <td>P47901</td>\n",
              "    </tr>\n",
              "    <tr>\n",
              "      <th>...</th>\n",
              "      <td>...</td>\n",
              "      <td>...</td>\n",
              "    </tr>\n",
              "    <tr>\n",
              "      <th>8734</th>\n",
              "      <td>DB04601</td>\n",
              "      <td>P00918</td>\n",
              "    </tr>\n",
              "    <tr>\n",
              "      <th>4481</th>\n",
              "      <td>DB01567</td>\n",
              "      <td>Q99928</td>\n",
              "    </tr>\n",
              "    <tr>\n",
              "      <th>11971</th>\n",
              "      <td>DB00999</td>\n",
              "      <td>P00918</td>\n",
              "    </tr>\n",
              "    <tr>\n",
              "      <th>3726</th>\n",
              "      <td>DB01439</td>\n",
              "      <td>P41143</td>\n",
              "    </tr>\n",
              "    <tr>\n",
              "      <th>12950</th>\n",
              "      <td>DB00499</td>\n",
              "      <td>P35869</td>\n",
              "    </tr>\n",
              "  </tbody>\n",
              "</table>\n",
              "<p>1000 rows × 2 columns</p>\n",
              "</div>\n",
              "      <button class=\"colab-df-convert\" onclick=\"convertToInteractive('df-37476a31-9229-42d0-a113-4728970c5e40')\"\n",
              "              title=\"Convert this dataframe to an interactive table.\"\n",
              "              style=\"display:none;\">\n",
              "        \n",
              "  <svg xmlns=\"http://www.w3.org/2000/svg\" height=\"24px\"viewBox=\"0 0 24 24\"\n",
              "       width=\"24px\">\n",
              "    <path d=\"M0 0h24v24H0V0z\" fill=\"none\"/>\n",
              "    <path d=\"M18.56 5.44l.94 2.06.94-2.06 2.06-.94-2.06-.94-.94-2.06-.94 2.06-2.06.94zm-11 1L8.5 8.5l.94-2.06 2.06-.94-2.06-.94L8.5 2.5l-.94 2.06-2.06.94zm10 10l.94 2.06.94-2.06 2.06-.94-2.06-.94-.94-2.06-.94 2.06-2.06.94z\"/><path d=\"M17.41 7.96l-1.37-1.37c-.4-.4-.92-.59-1.43-.59-.52 0-1.04.2-1.43.59L10.3 9.45l-7.72 7.72c-.78.78-.78 2.05 0 2.83L4 21.41c.39.39.9.59 1.41.59.51 0 1.02-.2 1.41-.59l7.78-7.78 2.81-2.81c.8-.78.8-2.07 0-2.86zM5.41 20L4 18.59l7.72-7.72 1.47 1.35L5.41 20z\"/>\n",
              "  </svg>\n",
              "      </button>\n",
              "      \n",
              "  <style>\n",
              "    .colab-df-container {\n",
              "      display:flex;\n",
              "      flex-wrap:wrap;\n",
              "      gap: 12px;\n",
              "    }\n",
              "\n",
              "    .colab-df-convert {\n",
              "      background-color: #E8F0FE;\n",
              "      border: none;\n",
              "      border-radius: 50%;\n",
              "      cursor: pointer;\n",
              "      display: none;\n",
              "      fill: #1967D2;\n",
              "      height: 32px;\n",
              "      padding: 0 0 0 0;\n",
              "      width: 32px;\n",
              "    }\n",
              "\n",
              "    .colab-df-convert:hover {\n",
              "      background-color: #E2EBFA;\n",
              "      box-shadow: 0px 1px 2px rgba(60, 64, 67, 0.3), 0px 1px 3px 1px rgba(60, 64, 67, 0.15);\n",
              "      fill: #174EA6;\n",
              "    }\n",
              "\n",
              "    [theme=dark] .colab-df-convert {\n",
              "      background-color: #3B4455;\n",
              "      fill: #D2E3FC;\n",
              "    }\n",
              "\n",
              "    [theme=dark] .colab-df-convert:hover {\n",
              "      background-color: #434B5C;\n",
              "      box-shadow: 0px 1px 3px 1px rgba(0, 0, 0, 0.15);\n",
              "      filter: drop-shadow(0px 1px 2px rgba(0, 0, 0, 0.3));\n",
              "      fill: #FFFFFF;\n",
              "    }\n",
              "  </style>\n",
              "\n",
              "      <script>\n",
              "        const buttonEl =\n",
              "          document.querySelector('#df-37476a31-9229-42d0-a113-4728970c5e40 button.colab-df-convert');\n",
              "        buttonEl.style.display =\n",
              "          google.colab.kernel.accessAllowed ? 'block' : 'none';\n",
              "\n",
              "        async function convertToInteractive(key) {\n",
              "          const element = document.querySelector('#df-37476a31-9229-42d0-a113-4728970c5e40');\n",
              "          const dataTable =\n",
              "            await google.colab.kernel.invokeFunction('convertToInteractive',\n",
              "                                                     [key], {});\n",
              "          if (!dataTable) return;\n",
              "\n",
              "          const docLinkHtml = 'Like what you see? Visit the ' +\n",
              "            '<a target=\"_blank\" href=https://colab.research.google.com/notebooks/data_table.ipynb>data table notebook</a>'\n",
              "            + ' to learn more about interactive tables.';\n",
              "          element.innerHTML = '';\n",
              "          dataTable['output_type'] = 'display_data';\n",
              "          await google.colab.output.renderOutput(dataTable, element);\n",
              "          const docLink = document.createElement('div');\n",
              "          docLink.innerHTML = docLinkHtml;\n",
              "          element.appendChild(docLink);\n",
              "        }\n",
              "      </script>\n",
              "    </div>\n",
              "  </div>\n",
              "  "
            ],
            "text/plain": [
              "          drug    gene\n",
              "2272   DB00248  P21917\n",
              "13367  DB01359  P08908\n",
              "10094  DB01119  P15104\n",
              "1593   DB09079  P06239\n",
              "738    DB05455  P47901\n",
              "...        ...     ...\n",
              "8734   DB04601  P00918\n",
              "4481   DB01567  Q99928\n",
              "11971  DB00999  P00918\n",
              "3726   DB01439  P41143\n",
              "12950  DB00499  P35869\n",
              "\n",
              "[1000 rows x 2 columns]"
            ]
          },
          "metadata": {},
          "execution_count": 73
        }
      ]
    },
    {
      "cell_type": "code",
      "source": [
        "dt_net_df.shape"
      ],
      "metadata": {
        "colab": {
          "base_uri": "https://localhost:8080/"
        },
        "id": "RxMt6JlOSTEX",
        "outputId": "2845ac84-3421-4e2e-f9ad-6e7d545f1554"
      },
      "execution_count": 86,
      "outputs": [
        {
          "output_type": "execute_result",
          "data": {
            "text/plain": [
              "(15139, 2)"
            ]
          },
          "metadata": {},
          "execution_count": 86
        }
      ]
    },
    {
      "cell_type": "code",
      "source": [
        "## Convert to networkx Graph object\n",
        "G1 = nx.from_pandas_edgelist(dt_net_sample_df, source = 'drug', target = 'gene')"
      ],
      "metadata": {
        "id": "0nYGJ6JN8ZnK"
      },
      "execution_count": 74,
      "outputs": []
    },
    {
      "cell_type": "code",
      "source": [
        "## Set node attributes\n",
        "U1 = list(dt_net_sample_df['drug'].values)\n",
        "U1_type = list(np.repeat('Drug', len(U1)))\n",
        "U1_color = list(np.repeat('blue', len(U1)))\n",
        "\n",
        "V1 = list(dt_net_sample_df['drug'].values)\n",
        "V1_type = list(np.repeat('Gene', len(V1)))\n",
        "V1_color = list(np.repeat('blue', len(V1)))\n",
        "\n",
        "U1_attr_dict = {'id':U1, 'dgraph.type': U1_type, 'color':U1_color}\n",
        "V1_attr_dict = {'id':V1, 'dgraph.type': V1_type, 'color':V1_color}"
      ],
      "metadata": {
        "id": "bckWzRiPLFbo"
      },
      "execution_count": 85,
      "outputs": []
    },
    {
      "cell_type": "code",
      "source": [
        "## Draw the network and export to png\n",
        "A1 = nx.nx_agraph.to_agraph(G1)\n",
        "A1.layout('dot')\n",
        "A1.draw('/content/drive/MyDrive/multiplex/figures/drug_target_net.png')"
      ],
      "metadata": {
        "colab": {
          "base_uri": "https://localhost:8080/"
        },
        "id": "o5FtKtHBDLm2",
        "outputId": "d290aa05-0bd9-433a-b45e-d3a7d94074c1"
      },
      "execution_count": 79,
      "outputs": [
        {
          "output_type": "stream",
          "name": "stderr",
          "text": [
            "/usr/local/lib/python3.7/dist-packages/pygraphviz/agraph.py:1390: RuntimeWarning: neato: graph is too large for cairo-renderer bitmaps. Scaling by 0.384373 to fit\n",
            "\n",
            "  warnings.warn(b\"\".join(errors).decode(self.encoding), RuntimeWarning)\n"
          ]
        }
      ]
    },
    {
      "cell_type": "markdown",
      "source": [
        "### Human Molecular Multiplex Network"
      ],
      "metadata": {
        "id": "deJ8OB-Urgi0"
      }
    },
    {
      "cell_type": "code",
      "source": [
        ""
      ],
      "metadata": {
        "id": "vg_LGT9uKuRJ"
      },
      "execution_count": null,
      "outputs": []
    }
  ]
}